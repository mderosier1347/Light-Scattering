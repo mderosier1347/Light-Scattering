{
 "cells": [
  {
   "cell_type": "code",
   "execution_count": 88,
   "metadata": {},
   "outputs": [
    {
     "name": "stdout",
     "output_type": "stream",
     "text": [
      "[[0. 0. 0.]\n",
      " [1. 2. 3.]\n",
      " [7. 8. 9.]]\n",
      "R: [ 2.  3.  4.  5.  6.  7.  8.  9. 10. 11. 12.]\n"
     ]
    }
   ],
   "source": [
    "import json\n",
    "import numpy as np\n",
    "\n",
    "NSID = 10\n",
    "\n",
    "A0 = np.array([[0,0,0]])\n",
    "A1 = np.array([[1,2,3]])\n",
    "A2 = np.array([[7,8,9]])\n",
    "\n",
    "P = np.empty((0,3),float)\n",
    "\n",
    "P = np.append(P,A0,axis=0)\n",
    "P = np.append(P,A1,axis=0)\n",
    "P = np.append(P,A2,axis=0)\n",
    "\n",
    "R_array = np.empty((0,3),float)\n",
    "#temp_array = np.empty((0,3),float)\n",
    "i=0\n",
    "j=0\n",
    "\n",
    "while i<(NSID+1):\n",
    "    \n",
    "    #temp_array = temp_array_new\n",
    "    \n",
    "    for j in range(i,i+3):\n",
    "        \n",
    "        temp_array = [j,]\n",
    "        j = j+1\n",
    "        \n",
    "        \n",
    "        \n",
    "            \n",
    "    R_array = np.append(R_array,temp_array) \n",
    "    temp_array_new = np.empty([0,0,0])\n",
    "    i= i+1\n",
    "\n",
    "        \n",
    "        \n",
    "        \n",
    "    \n",
    "        \n",
    "\n",
    "\n",
    "print(P)\n",
    "print(\"R:\",R_array)"
   ]
  },
  {
   "cell_type": "code",
   "execution_count": null,
   "metadata": {},
   "outputs": [],
   "source": []
  }
 ],
 "metadata": {
  "kernelspec": {
   "display_name": "Python 3",
   "language": "python",
   "name": "python3"
  },
  "language_info": {
   "codemirror_mode": {
    "name": "ipython",
    "version": 3
   },
   "file_extension": ".py",
   "mimetype": "text/x-python",
   "name": "python",
   "nbconvert_exporter": "python",
   "pygments_lexer": "ipython3",
   "version": "3.7.7"
  }
 },
 "nbformat": 4,
 "nbformat_minor": 4
}
