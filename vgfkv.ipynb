{
 "cells": [
  {
   "cell_type": "code",
   "execution_count": 2,
   "metadata": {},
   "outputs": [
    {
     "name": "stdout",
     "output_type": "stream",
     "text": [
      "Enter the number of angles theta: 8\n",
      "Enter the number of angles phi: 8\n",
      "Enter the file name: vgfkv\n",
      "Enter the comments here: yo\n"
     ]
    }
   ],
   "source": [
    "import numpy as np\n",
    "from numpy import append\n",
    "import cmath as cm\n",
    "from math import pi \n",
    "from collections import Counter\n",
    "import json\n",
    "\n",
    "\n",
    "NTH = int(input(\"Enter the number of angles theta: \"))\n",
    "NPH = int(input(\"Enter the number of angles phi: \"))\n",
    "FNAME = input(\"Enter the file name: \")\n",
    "COMMENTS = input(\"Enter the comments here: \")\n",
    "\n",
    "count = 1 \n",
    "\n",
    "knmax = 5000\n",
    "\n",
    "delTh = pi/(NTH+1)\n",
    "delPh = 2*pi/NPH\n",
    "kth = np.zeros(knmax)\n",
    "kph = np.zeros(knmax)\n",
    "Kth = []\n",
    "Kph = []\n",
    "kth[count] = 0.0\n",
    "kph[count] = 0.0\n",
    "countList = [0]\n",
    "lastLine = [99999, 99999, 1, 1]\n",
    "\n",
    "for i in range (1, NTH + 1):\n",
    "    th = (i * delTh)\n",
    "\n",
    "    \n",
    "    for j in range (1, NPH + 1):\n",
    "        ph = j * delPh\n",
    "        kth[count] = th\n",
    "        kph[count] = ph\n",
    "        countList.append(count)\n",
    "        count = count + 1\n",
    "        \n",
    "        \n",
    "\n",
    "kth[count]= pi\n",
    "kph[count]= 0.0\n",
    "\n",
    "\n",
    "for i in range (0, count + 1):\n",
    "    Kth.append(kth[i])\n",
    "    Kph.append(kph[i])\n",
    "    #print(Kth,Kph)\n",
    "    \n",
    "    data = {'Comments': COMMENTS, 'Count': countList[-1], 'Theta angle': Kth, 'Phi angle': Kph, 'Last Line': lastLine}\n",
    "\n",
    "\n",
    "with open('/Users/madisonderosier/Desktop/Research/' + FNAME + '.txt', 'w', encoding='utf-8') as f:\n",
    "    json.dump(data, f, ensure_ascii=False, indent=4)\n"
   ]
  },
  {
   "cell_type": "code",
   "execution_count": null,
   "metadata": {},
   "outputs": [],
   "source": []
  }
 ],
 "metadata": {
  "kernelspec": {
   "display_name": "Python 3",
   "language": "python",
   "name": "python3"
  },
  "language_info": {
   "codemirror_mode": {
    "name": "ipython",
    "version": 3
   },
   "file_extension": ".py",
   "mimetype": "text/x-python",
   "name": "python",
   "nbconvert_exporter": "python",
   "pygments_lexer": "ipython3",
   "version": "3.7.7"
  }
 },
 "nbformat": 4,
 "nbformat_minor": 4
}
