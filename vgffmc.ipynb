{
 "cells": [
  {
   "cell_type": "code",
   "execution_count": 27,
   "metadata": {},
   "outputs": [
    {
     "name": "stdout",
     "output_type": "stream",
     "text": [
      "Enter vgfin input file name: yo\n",
      "Enter vgfkv input file name: VGFKV_Woohoo\n",
      "Enter output file name: yuh\n",
      "[[ 0.99939083  0.0348995  -0.        ]\n",
      " [-0.0348995   0.99939083  0.        ]\n",
      " [ 0.          0.          1.        ]]\n"
     ]
    }
   ],
   "source": [
    "from math import pi\n",
    "import numpy as np\n",
    "import cmath as cm\n",
    "from collections import Counter\n",
    "import json\n",
    "\n",
    "DEG = pi/180.0\n",
    "CI = (0.0,1.0)\n",
    "nmax = 20000\n",
    "knmax = 150\n",
    "dsum = 0\n",
    "\n",
    "VGFIN = input(\"Enter vgfin input file name: \")\n",
    "VGFKV = input(\"Enter vgfkv input file name: \")\n",
    "OUTFILE = input(\"Enter output file name: \")\n",
    "\n",
    "with open(\"/Users/madisonderosier/Desktop/Research/\" + VGFIN + \".txt\",'r')as fp:    # Read in VGFIN file\n",
    "    variable=fp.read()\n",
    "    vgfin=json.loads(variable)\n",
    "\n",
    "\n",
    "with open(\"/Users/madisonderosier/Desktop/Research/\" + VGFKV + \".txt\",'r')as fp:   # Read in VGFKV\n",
    "    variable=fp.read()\n",
    "    vgfkv=json.loads(variable)\n",
    "\n",
    "wave = int(vgfin[\"Wavelength\"])                    # This just reads in each individual variable and\n",
    "alpha = int(vgfin[\"Incident theta angle\"])         #     asigns them the variable that will be used\n",
    "beta = int(vgfin[\"Value for phi\"])                 #     to call them in the functions in this code\n",
    "gama = int(vgfin[\"Value for gamma\"])\n",
    "psi = int(vgfin[\"Polarization angle\"])\n",
    "RAD = int(vgfin[\"Particle symmetry semi-axes\"])\n",
    "eps = complex(vgfin[\"EPS\"])\n",
    "er = float(vgfin[\"ER\"])\n",
    "ei = float(vgfin[\"EI\"])\n",
    "td = float(vgfin[\"TD\"])\n",
    "R = np.array(vgfin[\"R-vector\"])\n",
    "D = np.array(vgfin[\"D-vector\"])\n",
    "nsid = int(vgfin[\"Number of dipoles along major axes\"])\n",
    "nlsid = int(vgfin[\"Number of fine structure devisions per dipole cell side\"])\n",
    "mr = float(vgfin[\"Real part of index of refraction\"])\n",
    "mi = float(vgfin[\"Imaginary part of index of refraction\"])\n",
    "NUSE = int(vgfin[\"Counter\"])\n",
    "\n",
    "theta = np.array(vgfkv[\"Theta angle\"])\n",
    "phi = np.array(vgfkv[\"Phi angle\"])\n",
    "lastLine = np.array(vgfkv[\"Last Line\"])\n",
    "\n",
    "EPS = complex(er,ei)\n",
    "mm = np.sqrt(EPS)\n",
    "x = (EPS - 1.0)/(4.0* pi)\n",
    "           \n",
    "#for i in range(0,NUSE+1):       # This is supposed to be the loop that calls in each \n",
    "    #r = R(i)                    #     set of (x,y, and z) components of R and D in order\n",
    "    #d = D(i)                    #     to calculate the total volume of the particle \n",
    "    #dsum = dsum + d**3          # Its currently commented out because it was returning an \n",
    "    #i+= 1                       #     error saying there were too many values in the R array?\n",
    "                                 #     so I was very confused but wanted to make sure the rest of the code worked.\n",
    "#print(dsum)\n",
    "\n",
    "k = (2.0 * pi)/ wave            # Defines k\n",
    "alpha = alpha*DEG               # The following makes the following variables in terms of radians\n",
    "beta = beta*DEG\n",
    "gamma = gamma*DEG\n",
    "psi = psi*DEG\n",
    "\n",
    "rot = Rot(alpha,beta,gamma)     # This is where Class ROT is called in and RRR can be \n",
    "RRR = rot.ROT()                 # Successfully executed!\n",
    "\n",
    "print(RRR)\n",
    "\n",
    "           \n",
    "\n"
   ]
  },
  {
   "cell_type": "code",
   "execution_count": 13,
   "metadata": {},
   "outputs": [
    {
     "name": "stdout",
     "output_type": "stream",
     "text": [
      "[[-0.39760963 -0.86181133 -0.31494096]\n",
      " [-0.52968179  0.49585783 -0.68815856]\n",
      " [ 0.74922879 -0.10679997 -0.65364362]]\n"
     ]
    }
   ],
   "source": [
    "from numpy.linalg import norm\n",
    "from numpy import arange,array,pi,cos,sin,copy,sqrt\n",
    "from matplotlib import pyplot as plt\n",
    "\n",
    "class Rot:                                    # Class that will make array RRR to be\n",
    "                                              # called into the main section of vgffmc\n",
    "    def __init__(self,alpha,beta,gamma):      # The variables that must be called in are \n",
    "        self.alpha = alpha                    #   alpha, beta, and gamma\n",
    "        self.beta = beta\n",
    "        self.gamma = gamma\n",
    "        \n",
    "    def ROT(self):\n",
    "        RRR = np.array(\n",
    "          [[ cos(self.alpha)*cos(self.beta)*cos(self.gamma)-sin(self.alpha)*sin(self.gamma),\n",
    "             sin(self.alpha)*cos(self.beta)*cos(self.gamma)+cos(self.alpha)*sin(self.gamma),\n",
    "            -sin(self.beta)*cos(self.gamma)],\n",
    "           [-cos(self.alpha)*cos(self.beta)*sin(self.gamma)-sin(self.alpha)*cos(self.gamma),\n",
    "            -sin(self.alpha)*cos(self.beta)*sin(self.gamma)+cos(self.alpha)*cos(self.gamma),\n",
    "             sin(self.beta)*sin(self.gamma)],\n",
    "           [ cos(self.alpha)*sin(self.beta),\n",
    "             sin(self.alpha)*sin(self.beta),\n",
    "             cos(self.beta)]])\n",
    "        return RRR                              # This is the array and returns it \n",
    "                                                #    with the name RRR so that we can \n",
    "alpha = 3                                       #    call it in\n",
    "beta = 4\n",
    "gamma = 2            \n",
    "\n",
    "rot = Rot(alpha,beta,gamma)                      # This was just a test to see if it worked\n",
    "RRR = rot.ROT()                                  #   p.s. it does! woohoo!\n",
    "\n",
    "\n",
    "    "
   ]
  },
  {
   "cell_type": "code",
   "execution_count": null,
   "metadata": {},
   "outputs": [],
   "source": []
  }
 ],
 "metadata": {
  "kernelspec": {
   "display_name": "Python 3",
   "language": "python",
   "name": "python3"
  },
  "language_info": {
   "codemirror_mode": {
    "name": "ipython",
    "version": 3
   },
   "file_extension": ".py",
   "mimetype": "text/x-python",
   "name": "python",
   "nbconvert_exporter": "python",
   "pygments_lexer": "ipython3",
   "version": "3.7.7"
  }
 },
 "nbformat": 4,
 "nbformat_minor": 4
}
