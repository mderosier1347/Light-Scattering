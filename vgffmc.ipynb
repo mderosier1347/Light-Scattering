{
 "cells": [
  {
   "cell_type": "code",
   "execution_count": 1,
   "metadata": {},
   "outputs": [
    {
     "name": "stdout",
     "output_type": "stream",
     "text": [
      "Enter input file name: vgfin\n",
      "Enter output file name: vgffmc\n",
      "ok0  Wavelength 5.0\n",
      "5.0  Incident theta angle 9.0\n",
      "  Value for phi 9.0\n",
      "  Value for gamma 9.0\n",
      "  Polarization angle 9.0\n",
      "  Particle symmetry semi-axes 3.0\n",
      "162j162j162j2.0  Number of dipoles along major axes 3\n",
      "  Number of fine structure devisions per dipole cell side 3\n",
      "  Real part of index of refraction 9.0\n",
      "  Imaginary part of the index of refraction 9.0\n",
      "\n"
     ]
    }
   ],
   "source": [
    "from math import pi\n",
    "import numpy as np\n",
    "import cmath as cm\n",
    "from collections import Counter\n",
    "\n",
    "DEG = pi/180.0\n",
    "CI = (0.0,1.0)\n",
    "\n",
    "INFILE = input(\"Enter input file name: \")\n",
    "OUTFILE = input(\"Enter output file name: \")\n",
    "\n",
    "file = open(\"/Users/madisonderosier/Desktop/Research/\" + INFILE + \".txt\",\"r\")\n",
    "if file.mode == \"r\":\n",
    "    contents = file.read()\n",
    "    print(contents)\n",
    "\n",
    "    \n",
    "outfile = open(\"/Users/madisonderosier/Desktop/Research/\" + OUTFILE + \".txt\",\"w\")\n"
   ]
  },
  {
   "cell_type": "code",
   "execution_count": null,
   "metadata": {},
   "outputs": [],
   "source": []
  }
 ],
 "metadata": {
  "kernelspec": {
   "display_name": "Python 3",
   "language": "python",
   "name": "python3"
  },
  "language_info": {
   "codemirror_mode": {
    "name": "ipython",
    "version": 3
   },
   "file_extension": ".py",
   "mimetype": "text/x-python",
   "name": "python",
   "nbconvert_exporter": "python",
   "pygments_lexer": "ipython3",
   "version": "3.7.7"
  }
 },
 "nbformat": 4,
 "nbformat_minor": 4
}
